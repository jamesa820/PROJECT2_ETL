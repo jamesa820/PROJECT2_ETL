{
 "cells": [
  {
   "cell_type": "markdown",
   "metadata": {},
   "source": [
    "# Project #2 - ETL Boogaloo\n",
    "## Washington University/Trilogy Data Science Winter 2020\n",
    "### James Avery / Robert Hanlon / Michael Joyce\n",
    "\n",
    "For our second project we were given free reign to choose our own data sources.  We wanted to choose something that is culturally relevant to now, and since marijuana legalization just took effect in Missouri in January, something along those lines sounded interesting.\n",
    "\n",
    "Our research into datasets relating to legal marijuana led us to the [Colorado state government website](https://data.colorado.gov/), where they have a very nice interface and data going back to 2014, shortly after the dawn of recreational legalization in their state."
   ]
  },
  {
   "cell_type": "code",
   "execution_count": 5,
   "metadata": {},
   "outputs": [],
   "source": [
    "import pandas as pd"
   ]
  },
  {
   "cell_type": "code",
   "execution_count": 6,
   "metadata": {},
   "outputs": [],
   "source": [
    "#requires:\n",
    "# pip install boto3\n",
    "# pip install s3fs <-- Pandas uses this with .to_csv for (I assume) serializing the dataframe to csv.\n",
    "import boto3\n",
    "from io import StringIO"
   ]
  },
  {
   "cell_type": "markdown",
   "metadata": {},
   "source": [
    "### The user must enter the AWS S3 credentials for this bucket.  Contact me (Robert Hanlon, rhanlon70@gmail.com) for those credentials.\n",
    "\n",
    "#### This was done in lieu of hardcoding credentials for a few reasons.\n",
    "1. AWS actually called me (and emailed me) and told me to change the keys almost immediately after I first committed them to Github (forgetting that Github was totally open to the public).  Not just the keys I committed, but all the keys that were in existence at the time I committed the one set.\n",
    "1. The credentials may change, and I didn't want to have to change the code each time they did.\n",
    "1. Hardcoding credentials is worst practices."
   ]
  },
  {
   "cell_type": "code",
   "execution_count": 8,
   "metadata": {},
   "outputs": [],
   "source": [
    "aws_access_key_id = input(\"Enter the AWS Access Key ID:\")"
   ]
  },
  {
   "cell_type": "code",
   "execution_count": 10,
   "metadata": {},
   "outputs": [],
   "source": [
    "aws_secret_access_key = input(\"Enter the AWS Secret Access Key:\")"
   ]
  },
  {
   "cell_type": "markdown",
   "metadata": {},
   "source": [
    "### Now we create the AWS S3 proxy object, and verify access to the specific bucket that will contain all the data."
   ]
  },
  {
   "cell_type": "code",
   "execution_count": 11,
   "metadata": {},
   "outputs": [],
   "source": [
    "s3 = boto3.resource('s3', aws_access_key_id=aws_access_key_id, aws_secret_access_key=aws_secret_access_key)"
   ]
  },
  {
   "cell_type": "code",
   "execution_count": 12,
   "metadata": {},
   "outputs": [
    {
     "output_type": "execute_result",
     "data": {
      "text/plain": "'s3://wustl-data-01-2020-project-2/dfs'"
     },
     "metadata": {},
     "execution_count": 12
    }
   ],
   "source": [
    "bucket_name = 'wustl-data-01-2020-project-2'\n",
    "bucket_path = f's3://{bucket_name}/dfs'\n",
    "bucket_path"
   ]
  },
  {
   "cell_type": "code",
   "execution_count": 13,
   "metadata": {},
   "outputs": [
    {
     "output_type": "execute_result",
     "data": {
      "text/plain": "s3.Bucket(name='wustl-data-01-2020-project-2')"
     },
     "metadata": {},
     "execution_count": 13
    }
   ],
   "source": [
    "# validate that this bucket is accessible.  If not, expect an exception to be thrown here.\n",
    "bucket = s3.Bucket(bucket_name)\n",
    "bucket"
   ]
  },
  {
   "cell_type": "code",
   "execution_count": 14,
   "metadata": {
    "scrolled": true
   },
   "outputs": [
    {
     "output_type": "execute_result",
     "data": {
      "text/plain": "                               Licensee  DBA License_No      Street_Address  \\\n0                 1617 WAZEE STREET LLC  NaN        NaN       1617 Wazee St   \n1  3-D DENVER'S DISCREET DISPENSARY LLC  NaN        NaN  4305 Brighton Blvd   \n2                   4625 E. COLFAX, LLC  NaN        NaN  4625 E. Colfax Ave   \n3                     5280 WELLNESS LLC  NaN        NaN   1321 Elati Street   \n4   A CUT OFF THE TOP MEDICAL MARIJUANA  NaN        NaN     2059 W. 9th Ave   \n\n       City      ZIP                   Category  Month  Year Certification  \n0    Denver  80202.0  Medical Marijuana Centers      1  2013           NaN  \n1  Brighton  80216.0  Medical Marijuana Centers      1  2013           NaN  \n2    Denver  80216.0  Medical Marijuana Centers      1  2013           NaN  \n3    Denver  80204.0  Medical Marijuana Centers      1  2013           NaN  \n4    Denver  80204.0  Medical Marijuana Centers      1  2013           NaN  ",
      "text/html": "<div>\n<style scoped>\n    .dataframe tbody tr th:only-of-type {\n        vertical-align: middle;\n    }\n\n    .dataframe tbody tr th {\n        vertical-align: top;\n    }\n\n    .dataframe thead th {\n        text-align: right;\n    }\n</style>\n<table border=\"1\" class=\"dataframe\">\n  <thead>\n    <tr style=\"text-align: right;\">\n      <th></th>\n      <th>Licensee</th>\n      <th>DBA</th>\n      <th>License_No</th>\n      <th>Street_Address</th>\n      <th>City</th>\n      <th>ZIP</th>\n      <th>Category</th>\n      <th>Month</th>\n      <th>Year</th>\n      <th>Certification</th>\n    </tr>\n  </thead>\n  <tbody>\n    <tr>\n      <td>0</td>\n      <td>1617 WAZEE STREET LLC</td>\n      <td>NaN</td>\n      <td>NaN</td>\n      <td>1617 Wazee St</td>\n      <td>Denver</td>\n      <td>80202.0</td>\n      <td>Medical Marijuana Centers</td>\n      <td>1</td>\n      <td>2013</td>\n      <td>NaN</td>\n    </tr>\n    <tr>\n      <td>1</td>\n      <td>3-D DENVER'S DISCREET DISPENSARY LLC</td>\n      <td>NaN</td>\n      <td>NaN</td>\n      <td>4305 Brighton Blvd</td>\n      <td>Brighton</td>\n      <td>80216.0</td>\n      <td>Medical Marijuana Centers</td>\n      <td>1</td>\n      <td>2013</td>\n      <td>NaN</td>\n    </tr>\n    <tr>\n      <td>2</td>\n      <td>4625 E. COLFAX, LLC</td>\n      <td>NaN</td>\n      <td>NaN</td>\n      <td>4625 E. Colfax Ave</td>\n      <td>Denver</td>\n      <td>80216.0</td>\n      <td>Medical Marijuana Centers</td>\n      <td>1</td>\n      <td>2013</td>\n      <td>NaN</td>\n    </tr>\n    <tr>\n      <td>3</td>\n      <td>5280 WELLNESS LLC</td>\n      <td>NaN</td>\n      <td>NaN</td>\n      <td>1321 Elati Street</td>\n      <td>Denver</td>\n      <td>80204.0</td>\n      <td>Medical Marijuana Centers</td>\n      <td>1</td>\n      <td>2013</td>\n      <td>NaN</td>\n    </tr>\n    <tr>\n      <td>4</td>\n      <td>A CUT OFF THE TOP MEDICAL MARIJUANA</td>\n      <td>NaN</td>\n      <td>NaN</td>\n      <td>2059 W. 9th Ave</td>\n      <td>Denver</td>\n      <td>80204.0</td>\n      <td>Medical Marijuana Centers</td>\n      <td>1</td>\n      <td>2013</td>\n      <td>NaN</td>\n    </tr>\n  </tbody>\n</table>\n</div>"
     },
     "metadata": {},
     "execution_count": 14
    }
   ],
   "source": [
    "#Loaded the new Licensed MJ Businesses CSV into a dataframe\n",
    "\n",
    "license = pd.read_csv('Licensed_MJ_Businesses_fixed_lic_no.csv')\n",
    "license.head()"
   ]
  },
  {
   "cell_type": "markdown",
   "metadata": {},
   "source": [
    "# clean license dataframe"
   ]
  },
  {
   "cell_type": "code",
   "execution_count": 15,
   "metadata": {},
   "outputs": [],
   "source": [
    "#removed some columns \n",
    "cleaned_license=license.drop(['Certification','Month','ZIP','DBA'],axis=1)"
   ]
  },
  {
   "cell_type": "code",
   "execution_count": 16,
   "metadata": {},
   "outputs": [],
   "source": [
    "#removed null values\n",
    "cleaned_license=cleaned_license.dropna(subset=['Year','Category','City','Street_Address','License_No','Licensee'])"
   ]
  },
  {
   "cell_type": "code",
   "execution_count": 17,
   "metadata": {},
   "outputs": [
    {
     "output_type": "execute_result",
     "data": {
      "text/plain": "                                  Licensee License_No  \\\n6308                 1617 WAZEE STREET LLC  402-00017   \n6309  3-D DENVER'S DISCREET DISPENSARY LLC  402-00078   \n6310            4 REAL CANNABIS SUPPLY LLC  402-00471   \n6311                        505 CENTER LLC  402-00503   \n6312                         5110 RACE LLC  402-00204   \n\n                 Street_Address        City                   Category  Year  \n6308  1617 Wazee Street, Unit B      Denver  Medical Marijuana Centers  2014  \n6309    4305 Brighton Boulevard      Denver  Medical Marijuana Centers  2014  \n6310       County Rd 17 Hwy 160  Ft Garland  Medical Marijuana Centers  2014  \n6311       505 West 40th Avenue      Denver  Medical Marijuana Centers  2014  \n6312           5110 Race Street      Denver  Medical Marijuana Centers  2014  ",
      "text/html": "<div>\n<style scoped>\n    .dataframe tbody tr th:only-of-type {\n        vertical-align: middle;\n    }\n\n    .dataframe tbody tr th {\n        vertical-align: top;\n    }\n\n    .dataframe thead th {\n        text-align: right;\n    }\n</style>\n<table border=\"1\" class=\"dataframe\">\n  <thead>\n    <tr style=\"text-align: right;\">\n      <th></th>\n      <th>Licensee</th>\n      <th>License_No</th>\n      <th>Street_Address</th>\n      <th>City</th>\n      <th>Category</th>\n      <th>Year</th>\n    </tr>\n  </thead>\n  <tbody>\n    <tr>\n      <td>6308</td>\n      <td>1617 WAZEE STREET LLC</td>\n      <td>402-00017</td>\n      <td>1617 Wazee Street, Unit B</td>\n      <td>Denver</td>\n      <td>Medical Marijuana Centers</td>\n      <td>2014</td>\n    </tr>\n    <tr>\n      <td>6309</td>\n      <td>3-D DENVER'S DISCREET DISPENSARY LLC</td>\n      <td>402-00078</td>\n      <td>4305 Brighton Boulevard</td>\n      <td>Denver</td>\n      <td>Medical Marijuana Centers</td>\n      <td>2014</td>\n    </tr>\n    <tr>\n      <td>6310</td>\n      <td>4 REAL CANNABIS SUPPLY LLC</td>\n      <td>402-00471</td>\n      <td>County Rd 17 Hwy 160</td>\n      <td>Ft Garland</td>\n      <td>Medical Marijuana Centers</td>\n      <td>2014</td>\n    </tr>\n    <tr>\n      <td>6311</td>\n      <td>505 CENTER LLC</td>\n      <td>402-00503</td>\n      <td>505 West 40th Avenue</td>\n      <td>Denver</td>\n      <td>Medical Marijuana Centers</td>\n      <td>2014</td>\n    </tr>\n    <tr>\n      <td>6312</td>\n      <td>5110 RACE LLC</td>\n      <td>402-00204</td>\n      <td>5110 Race Street</td>\n      <td>Denver</td>\n      <td>Medical Marijuana Centers</td>\n      <td>2014</td>\n    </tr>\n  </tbody>\n</table>\n</div>"
     },
     "metadata": {},
     "execution_count": 17
    }
   ],
   "source": [
    "cleaned_license.head()"
   ]
  },
  {
   "cell_type": "code",
   "execution_count": 18,
   "metadata": {
    "collapsed": true
   },
   "outputs": [
    {
     "output_type": "execute_result",
     "data": {
      "text/plain": "{'ResponseMetadata': {'RequestId': '3010BF5B8162BC09',\n  'HostId': 'RVFdf/ALIJ7/rf0iiwfjttHTEWi1y513z8XfetEJ7eXyGhyXEzwhwEGxEUDhDzOYKj/MWMuCYAs=',\n  'HTTPStatusCode': 200,\n  'HTTPHeaders': {'x-amz-id-2': 'RVFdf/ALIJ7/rf0iiwfjttHTEWi1y513z8XfetEJ7eXyGhyXEzwhwEGxEUDhDzOYKj/MWMuCYAs=',\n   'x-amz-request-id': '3010BF5B8162BC09',\n   'date': 'Sat, 25 Apr 2020 22:22:08 GMT',\n   'etag': '\"7928047c99b92df02a76b8e9f0adc7d5\"',\n   'content-length': '0',\n   'server': 'AmazonS3'},\n  'RetryAttempts': 0},\n 'ETag': '\"7928047c99b92df02a76b8e9f0adc7d5\"'}"
     },
     "metadata": {},
     "execution_count": 18
    }
   ],
   "source": [
    "#license.to_csv(f'{bucket_path}/license.csv', encoding='utf-8', index=False)\n",
    "#license.to_csv('license.csv', encoding='utf-8', index=False)\n",
    "csv_buffer = StringIO()\n",
    "license.to_csv(csv_buffer)\n",
    "s3.Object(bucket_name, 'dfs/license.csv').put(Body=csv_buffer.getvalue())"
   ]
  },
  {
   "cell_type": "code",
   "execution_count": 19,
   "metadata": {},
   "outputs": [
    {
     "output_type": "execute_result",
     "data": {
      "text/plain": "   Month  Year      County  Med_Sales  Rec_Sales Med_Blank_Code  \\\n0     12  2019        Yuma        NaN        NaN             NL   \n1     12  2019        Weld   314840.0  2448689.0            NaN   \n2     12  2019  Washington        NaN        NaN             NL   \n3     12  2019      Teller        NaN        NaN             NL   \n4     12  2019      Summit        NaN  2476854.0             NR   \n\n  Rec_Blank_Code                ID  \n0             NL        122019Yuma  \n1            NaN        122019Weld  \n2             NL  122019Washington  \n3             NL      122019Teller  \n4            NaN      122019Summit  ",
      "text/html": "<div>\n<style scoped>\n    .dataframe tbody tr th:only-of-type {\n        vertical-align: middle;\n    }\n\n    .dataframe tbody tr th {\n        vertical-align: top;\n    }\n\n    .dataframe thead th {\n        text-align: right;\n    }\n</style>\n<table border=\"1\" class=\"dataframe\">\n  <thead>\n    <tr style=\"text-align: right;\">\n      <th></th>\n      <th>Month</th>\n      <th>Year</th>\n      <th>County</th>\n      <th>Med_Sales</th>\n      <th>Rec_Sales</th>\n      <th>Med_Blank_Code</th>\n      <th>Rec_Blank_Code</th>\n      <th>ID</th>\n    </tr>\n  </thead>\n  <tbody>\n    <tr>\n      <td>0</td>\n      <td>12</td>\n      <td>2019</td>\n      <td>Yuma</td>\n      <td>NaN</td>\n      <td>NaN</td>\n      <td>NL</td>\n      <td>NL</td>\n      <td>122019Yuma</td>\n    </tr>\n    <tr>\n      <td>1</td>\n      <td>12</td>\n      <td>2019</td>\n      <td>Weld</td>\n      <td>314840.0</td>\n      <td>2448689.0</td>\n      <td>NaN</td>\n      <td>NaN</td>\n      <td>122019Weld</td>\n    </tr>\n    <tr>\n      <td>2</td>\n      <td>12</td>\n      <td>2019</td>\n      <td>Washington</td>\n      <td>NaN</td>\n      <td>NaN</td>\n      <td>NL</td>\n      <td>NL</td>\n      <td>122019Washington</td>\n    </tr>\n    <tr>\n      <td>3</td>\n      <td>12</td>\n      <td>2019</td>\n      <td>Teller</td>\n      <td>NaN</td>\n      <td>NaN</td>\n      <td>NL</td>\n      <td>NL</td>\n      <td>122019Teller</td>\n    </tr>\n    <tr>\n      <td>4</td>\n      <td>12</td>\n      <td>2019</td>\n      <td>Summit</td>\n      <td>NaN</td>\n      <td>2476854.0</td>\n      <td>NR</td>\n      <td>NaN</td>\n      <td>122019Summit</td>\n    </tr>\n  </tbody>\n</table>\n</div>"
     },
     "metadata": {},
     "execution_count": 19
    }
   ],
   "source": [
    "sales_revenue=pd.read_csv('Marijuana_Sales_Revenue_in_Colorado.csv')\n",
    "sales_revenue.head()"
   ]
  },
  {
   "cell_type": "code",
   "execution_count": 20,
   "metadata": {},
   "outputs": [
    {
     "output_type": "execute_result",
     "data": {
      "text/plain": "   Month  Year      County  Med_Sales  Rec_Sales                ID\n0     12  2019        Yuma        NaN        NaN        122019Yuma\n1     12  2019        Weld   314840.0  2448689.0        122019Weld\n2     12  2019  Washington        NaN        NaN  122019Washington\n3     12  2019      Teller        NaN        NaN      122019Teller\n4     12  2019      Summit        NaN  2476854.0      122019Summit",
      "text/html": "<div>\n<style scoped>\n    .dataframe tbody tr th:only-of-type {\n        vertical-align: middle;\n    }\n\n    .dataframe tbody tr th {\n        vertical-align: top;\n    }\n\n    .dataframe thead th {\n        text-align: right;\n    }\n</style>\n<table border=\"1\" class=\"dataframe\">\n  <thead>\n    <tr style=\"text-align: right;\">\n      <th></th>\n      <th>Month</th>\n      <th>Year</th>\n      <th>County</th>\n      <th>Med_Sales</th>\n      <th>Rec_Sales</th>\n      <th>ID</th>\n    </tr>\n  </thead>\n  <tbody>\n    <tr>\n      <td>0</td>\n      <td>12</td>\n      <td>2019</td>\n      <td>Yuma</td>\n      <td>NaN</td>\n      <td>NaN</td>\n      <td>122019Yuma</td>\n    </tr>\n    <tr>\n      <td>1</td>\n      <td>12</td>\n      <td>2019</td>\n      <td>Weld</td>\n      <td>314840.0</td>\n      <td>2448689.0</td>\n      <td>122019Weld</td>\n    </tr>\n    <tr>\n      <td>2</td>\n      <td>12</td>\n      <td>2019</td>\n      <td>Washington</td>\n      <td>NaN</td>\n      <td>NaN</td>\n      <td>122019Washington</td>\n    </tr>\n    <tr>\n      <td>3</td>\n      <td>12</td>\n      <td>2019</td>\n      <td>Teller</td>\n      <td>NaN</td>\n      <td>NaN</td>\n      <td>122019Teller</td>\n    </tr>\n    <tr>\n      <td>4</td>\n      <td>12</td>\n      <td>2019</td>\n      <td>Summit</td>\n      <td>NaN</td>\n      <td>2476854.0</td>\n      <td>122019Summit</td>\n    </tr>\n  </tbody>\n</table>\n</div>"
     },
     "metadata": {},
     "execution_count": 20
    }
   ],
   "source": [
    "#Dropped boring columns from Sales CSV\n",
    "\n",
    "simple_sales = sales_revenue.drop(columns=['Med_Blank_Code', 'Rec_Blank_Code'])\n",
    "simple_sales.head()"
   ]
  },
  {
   "cell_type": "code",
   "execution_count": 21,
   "metadata": {},
   "outputs": [
    {
     "output_type": "execute_result",
     "data": {
      "text/plain": "   Month  Year              County   Med_Sales    Rec_Sales  \\\n1     12  2019                Weld    314840.0    2448689.0   \n4     12  2019              Summit         NaN    2476854.0   \n5     12  2019  Sum of NR Counties  27314662.0  116437714.0   \n7     12  2019          San Miguel         NaN     444533.0   \n8     12  2019            San Juan         NaN      13232.0   \n\n                         ID  \n1                122019Weld  \n4              122019Summit  \n5  122019Sum of NR Counties  \n7          122019San Miguel  \n8            122019San Juan  ",
      "text/html": "<div>\n<style scoped>\n    .dataframe tbody tr th:only-of-type {\n        vertical-align: middle;\n    }\n\n    .dataframe tbody tr th {\n        vertical-align: top;\n    }\n\n    .dataframe thead th {\n        text-align: right;\n    }\n</style>\n<table border=\"1\" class=\"dataframe\">\n  <thead>\n    <tr style=\"text-align: right;\">\n      <th></th>\n      <th>Month</th>\n      <th>Year</th>\n      <th>County</th>\n      <th>Med_Sales</th>\n      <th>Rec_Sales</th>\n      <th>ID</th>\n    </tr>\n  </thead>\n  <tbody>\n    <tr>\n      <td>1</td>\n      <td>12</td>\n      <td>2019</td>\n      <td>Weld</td>\n      <td>314840.0</td>\n      <td>2448689.0</td>\n      <td>122019Weld</td>\n    </tr>\n    <tr>\n      <td>4</td>\n      <td>12</td>\n      <td>2019</td>\n      <td>Summit</td>\n      <td>NaN</td>\n      <td>2476854.0</td>\n      <td>122019Summit</td>\n    </tr>\n    <tr>\n      <td>5</td>\n      <td>12</td>\n      <td>2019</td>\n      <td>Sum of NR Counties</td>\n      <td>27314662.0</td>\n      <td>116437714.0</td>\n      <td>122019Sum of NR Counties</td>\n    </tr>\n    <tr>\n      <td>7</td>\n      <td>12</td>\n      <td>2019</td>\n      <td>San Miguel</td>\n      <td>NaN</td>\n      <td>444533.0</td>\n      <td>122019San Miguel</td>\n    </tr>\n    <tr>\n      <td>8</td>\n      <td>12</td>\n      <td>2019</td>\n      <td>San Juan</td>\n      <td>NaN</td>\n      <td>13232.0</td>\n      <td>122019San Juan</td>\n    </tr>\n  </tbody>\n</table>\n</div>"
     },
     "metadata": {},
     "execution_count": 21
    }
   ],
   "source": [
    "#Dropped all rows with NaN values in both Med_Sales and Rec_Sales\n",
    "\n",
    "clean_sales = simple_sales.dropna(how=\"all\", subset=[\"Rec_Sales\",\"Med_Sales\"])\n",
    "clean_sales.head()"
   ]
  },
  {
   "cell_type": "code",
   "execution_count": 22,
   "metadata": {},
   "outputs": [
    {
     "output_type": "execute_result",
     "data": {
      "text/plain": "      County  Number of Patients  Percent of Patients\n0      Adams                8772                 7.90\n1    Alamosa                 204                 0.18\n2   Arapahoe               11985                10.79\n3  Archuleta                 378                 0.34\n4       Baca                  35                 0.03",
      "text/html": "<div>\n<style scoped>\n    .dataframe tbody tr th:only-of-type {\n        vertical-align: middle;\n    }\n\n    .dataframe tbody tr th {\n        vertical-align: top;\n    }\n\n    .dataframe thead th {\n        text-align: right;\n    }\n</style>\n<table border=\"1\" class=\"dataframe\">\n  <thead>\n    <tr style=\"text-align: right;\">\n      <th></th>\n      <th>County</th>\n      <th>Number of Patients</th>\n      <th>Percent of Patients</th>\n    </tr>\n  </thead>\n  <tbody>\n    <tr>\n      <td>0</td>\n      <td>Adams</td>\n      <td>8772</td>\n      <td>7.90</td>\n    </tr>\n    <tr>\n      <td>1</td>\n      <td>Alamosa</td>\n      <td>204</td>\n      <td>0.18</td>\n    </tr>\n    <tr>\n      <td>2</td>\n      <td>Arapahoe</td>\n      <td>11985</td>\n      <td>10.79</td>\n    </tr>\n    <tr>\n      <td>3</td>\n      <td>Archuleta</td>\n      <td>378</td>\n      <td>0.34</td>\n    </tr>\n    <tr>\n      <td>4</td>\n      <td>Baca</td>\n      <td>35</td>\n      <td>0.03</td>\n    </tr>\n  </tbody>\n</table>\n</div>"
     },
     "metadata": {},
     "execution_count": 22
    }
   ],
   "source": [
    "#Loaded the new County Statistics CSV into a dataframe\n",
    "\n",
    "med_mj_stats=pd.read_csv('MM_County_Statistics_full_percts.csv')\n",
    "med_mj_stats.head()"
   ]
  },
  {
   "cell_type": "code",
   "execution_count": 23,
   "metadata": {},
   "outputs": [
    {
     "output_type": "execute_result",
     "data": {
      "text/plain": "County                  object\nNumber of Patients       int64\nPercent of Patients    float64\ndtype: object"
     },
     "metadata": {},
     "execution_count": 23
    }
   ],
   "source": [
    "med_mj_stats.dtypes"
   ]
  },
  {
   "cell_type": "code",
   "execution_count": 24,
   "metadata": {
    "scrolled": true
   },
   "outputs": [
    {
     "output_type": "execute_result",
     "data": {
      "text/plain": "   Month  Year    County  Med_Tax_Rev  Rec_Tax_Rev  \\\n0      8  2019     Adams      17037.0          NaN   \n1      8  2019   Alamosa          NaN          NaN   \n2      8  2019  Arapahoe      24256.0          NaN   \n3      8  2019   Boulder      33557.0          NaN   \n4      8  2019   Chaffee          NaN          NaN   \n\n  Med_RemainderOfState_Counties Rec_RemainderOfState_Counties Med_Blank_Code  \\\n0                           NaN                           NaN            NaN   \n1                           NaN                           NaN             NR   \n2                           NaN                           NaN            NaN   \n3                           NaN                           NaN            NaN   \n4                           NaN                           NaN             NR   \n\n  Rec_Blank_Code             ID  \n0            NaN     82019Adams  \n1            NaN   82019Alamosa  \n2            NaN  82019Arapahoe  \n3            NaN   82019Boulder  \n4            NaN   82019Chaffee  ",
      "text/html": "<div>\n<style scoped>\n    .dataframe tbody tr th:only-of-type {\n        vertical-align: middle;\n    }\n\n    .dataframe tbody tr th {\n        vertical-align: top;\n    }\n\n    .dataframe thead th {\n        text-align: right;\n    }\n</style>\n<table border=\"1\" class=\"dataframe\">\n  <thead>\n    <tr style=\"text-align: right;\">\n      <th></th>\n      <th>Month</th>\n      <th>Year</th>\n      <th>County</th>\n      <th>Med_Tax_Rev</th>\n      <th>Rec_Tax_Rev</th>\n      <th>Med_RemainderOfState_Counties</th>\n      <th>Rec_RemainderOfState_Counties</th>\n      <th>Med_Blank_Code</th>\n      <th>Rec_Blank_Code</th>\n      <th>ID</th>\n    </tr>\n  </thead>\n  <tbody>\n    <tr>\n      <td>0</td>\n      <td>8</td>\n      <td>2019</td>\n      <td>Adams</td>\n      <td>17037.0</td>\n      <td>NaN</td>\n      <td>NaN</td>\n      <td>NaN</td>\n      <td>NaN</td>\n      <td>NaN</td>\n      <td>82019Adams</td>\n    </tr>\n    <tr>\n      <td>1</td>\n      <td>8</td>\n      <td>2019</td>\n      <td>Alamosa</td>\n      <td>NaN</td>\n      <td>NaN</td>\n      <td>NaN</td>\n      <td>NaN</td>\n      <td>NR</td>\n      <td>NaN</td>\n      <td>82019Alamosa</td>\n    </tr>\n    <tr>\n      <td>2</td>\n      <td>8</td>\n      <td>2019</td>\n      <td>Arapahoe</td>\n      <td>24256.0</td>\n      <td>NaN</td>\n      <td>NaN</td>\n      <td>NaN</td>\n      <td>NaN</td>\n      <td>NaN</td>\n      <td>82019Arapahoe</td>\n    </tr>\n    <tr>\n      <td>3</td>\n      <td>8</td>\n      <td>2019</td>\n      <td>Boulder</td>\n      <td>33557.0</td>\n      <td>NaN</td>\n      <td>NaN</td>\n      <td>NaN</td>\n      <td>NaN</td>\n      <td>NaN</td>\n      <td>82019Boulder</td>\n    </tr>\n    <tr>\n      <td>4</td>\n      <td>8</td>\n      <td>2019</td>\n      <td>Chaffee</td>\n      <td>NaN</td>\n      <td>NaN</td>\n      <td>NaN</td>\n      <td>NaN</td>\n      <td>NR</td>\n      <td>NaN</td>\n      <td>82019Chaffee</td>\n    </tr>\n  </tbody>\n</table>\n</div>"
     },
     "metadata": {},
     "execution_count": 24
    }
   ],
   "source": [
    "tax_revenue=pd.read_csv('State_Sales_Tax_Revenue_from_Marijuana_in_Colorado.csv')\n",
    "tax_revenue.head()"
   ]
  },
  {
   "cell_type": "code",
   "execution_count": 25,
   "metadata": {},
   "outputs": [
    {
     "output_type": "execute_result",
     "data": {
      "text/plain": "   Month  Year    County  Med_Tax_Rev  Rec_Tax_Rev             ID\n0      8  2019     Adams      17037.0          NaN     82019Adams\n1      8  2019   Alamosa          NaN          NaN   82019Alamosa\n2      8  2019  Arapahoe      24256.0          NaN  82019Arapahoe\n3      8  2019   Boulder      33557.0          NaN   82019Boulder\n4      8  2019   Chaffee          NaN          NaN   82019Chaffee",
      "text/html": "<div>\n<style scoped>\n    .dataframe tbody tr th:only-of-type {\n        vertical-align: middle;\n    }\n\n    .dataframe tbody tr th {\n        vertical-align: top;\n    }\n\n    .dataframe thead th {\n        text-align: right;\n    }\n</style>\n<table border=\"1\" class=\"dataframe\">\n  <thead>\n    <tr style=\"text-align: right;\">\n      <th></th>\n      <th>Month</th>\n      <th>Year</th>\n      <th>County</th>\n      <th>Med_Tax_Rev</th>\n      <th>Rec_Tax_Rev</th>\n      <th>ID</th>\n    </tr>\n  </thead>\n  <tbody>\n    <tr>\n      <td>0</td>\n      <td>8</td>\n      <td>2019</td>\n      <td>Adams</td>\n      <td>17037.0</td>\n      <td>NaN</td>\n      <td>82019Adams</td>\n    </tr>\n    <tr>\n      <td>1</td>\n      <td>8</td>\n      <td>2019</td>\n      <td>Alamosa</td>\n      <td>NaN</td>\n      <td>NaN</td>\n      <td>82019Alamosa</td>\n    </tr>\n    <tr>\n      <td>2</td>\n      <td>8</td>\n      <td>2019</td>\n      <td>Arapahoe</td>\n      <td>24256.0</td>\n      <td>NaN</td>\n      <td>82019Arapahoe</td>\n    </tr>\n    <tr>\n      <td>3</td>\n      <td>8</td>\n      <td>2019</td>\n      <td>Boulder</td>\n      <td>33557.0</td>\n      <td>NaN</td>\n      <td>82019Boulder</td>\n    </tr>\n    <tr>\n      <td>4</td>\n      <td>8</td>\n      <td>2019</td>\n      <td>Chaffee</td>\n      <td>NaN</td>\n      <td>NaN</td>\n      <td>82019Chaffee</td>\n    </tr>\n  </tbody>\n</table>\n</div>"
     },
     "metadata": {},
     "execution_count": 25
    }
   ],
   "source": [
    "#Dropped boring columns\n",
    "\n",
    "simple_taxes = tax_revenue.drop(columns=[\"Med_RemainderOfState_Counties\", \"Rec_RemainderOfState_Counties\", \"Med_Blank_Code\", \"Rec_Blank_Code\"])\n",
    "simple_taxes.head()"
   ]
  },
  {
   "cell_type": "code",
   "execution_count": 26,
   "metadata": {},
   "outputs": [
    {
     "output_type": "execute_result",
     "data": {
      "text/plain": "   Month  Year    County  Med_Tax_Rev  Rec_Tax_Rev             ID\n0      8  2019     Adams      17037.0          NaN     82019Adams\n2      8  2019  Arapahoe      24256.0          NaN  82019Arapahoe\n3      8  2019   Boulder      33557.0          NaN   82019Boulder\n6      8  2019    Denver     392226.0          NaN    82019Denver\n7      8  2019     Eagle       2826.0          NaN     82019Eagle",
      "text/html": "<div>\n<style scoped>\n    .dataframe tbody tr th:only-of-type {\n        vertical-align: middle;\n    }\n\n    .dataframe tbody tr th {\n        vertical-align: top;\n    }\n\n    .dataframe thead th {\n        text-align: right;\n    }\n</style>\n<table border=\"1\" class=\"dataframe\">\n  <thead>\n    <tr style=\"text-align: right;\">\n      <th></th>\n      <th>Month</th>\n      <th>Year</th>\n      <th>County</th>\n      <th>Med_Tax_Rev</th>\n      <th>Rec_Tax_Rev</th>\n      <th>ID</th>\n    </tr>\n  </thead>\n  <tbody>\n    <tr>\n      <td>0</td>\n      <td>8</td>\n      <td>2019</td>\n      <td>Adams</td>\n      <td>17037.0</td>\n      <td>NaN</td>\n      <td>82019Adams</td>\n    </tr>\n    <tr>\n      <td>2</td>\n      <td>8</td>\n      <td>2019</td>\n      <td>Arapahoe</td>\n      <td>24256.0</td>\n      <td>NaN</td>\n      <td>82019Arapahoe</td>\n    </tr>\n    <tr>\n      <td>3</td>\n      <td>8</td>\n      <td>2019</td>\n      <td>Boulder</td>\n      <td>33557.0</td>\n      <td>NaN</td>\n      <td>82019Boulder</td>\n    </tr>\n    <tr>\n      <td>6</td>\n      <td>8</td>\n      <td>2019</td>\n      <td>Denver</td>\n      <td>392226.0</td>\n      <td>NaN</td>\n      <td>82019Denver</td>\n    </tr>\n    <tr>\n      <td>7</td>\n      <td>8</td>\n      <td>2019</td>\n      <td>Eagle</td>\n      <td>2826.0</td>\n      <td>NaN</td>\n      <td>82019Eagle</td>\n    </tr>\n  </tbody>\n</table>\n</div>"
     },
     "metadata": {},
     "execution_count": 26
    }
   ],
   "source": [
    "#Dropped all rows with NaN in both Med_Tax_Rev and Rec_Tax_Rev\n",
    "\n",
    "clean_taxes = simple_taxes.dropna(how=\"all\", subset=[\"Med_Tax_Rev\",\"Rec_Tax_Rev\"])\n",
    "clean_taxes.head()"
   ]
  },
  {
   "cell_type": "code",
   "execution_count": 27,
   "metadata": {},
   "outputs": [
    {
     "output_type": "execute_result",
     "data": {
      "text/plain": "     ZIP  STCOUNTYFP           CITY STATE      COUNTYNAME CLASSFP\n0  36091        1001        Verbena    AL  Autauga County      H1\n1  36758        1001  Plantersville    AL  Autauga County      H1\n2  36006        1001    Billingsley    AL  Autauga County      H1\n3  36067        1001     Prattville    AL  Autauga County      H1\n4  36701        1001          Selma    AL  Autauga County      H1",
      "text/html": "<div>\n<style scoped>\n    .dataframe tbody tr th:only-of-type {\n        vertical-align: middle;\n    }\n\n    .dataframe tbody tr th {\n        vertical-align: top;\n    }\n\n    .dataframe thead th {\n        text-align: right;\n    }\n</style>\n<table border=\"1\" class=\"dataframe\">\n  <thead>\n    <tr style=\"text-align: right;\">\n      <th></th>\n      <th>ZIP</th>\n      <th>STCOUNTYFP</th>\n      <th>CITY</th>\n      <th>STATE</th>\n      <th>COUNTYNAME</th>\n      <th>CLASSFP</th>\n    </tr>\n  </thead>\n  <tbody>\n    <tr>\n      <td>0</td>\n      <td>36091</td>\n      <td>1001</td>\n      <td>Verbena</td>\n      <td>AL</td>\n      <td>Autauga County</td>\n      <td>H1</td>\n    </tr>\n    <tr>\n      <td>1</td>\n      <td>36758</td>\n      <td>1001</td>\n      <td>Plantersville</td>\n      <td>AL</td>\n      <td>Autauga County</td>\n      <td>H1</td>\n    </tr>\n    <tr>\n      <td>2</td>\n      <td>36006</td>\n      <td>1001</td>\n      <td>Billingsley</td>\n      <td>AL</td>\n      <td>Autauga County</td>\n      <td>H1</td>\n    </tr>\n    <tr>\n      <td>3</td>\n      <td>36067</td>\n      <td>1001</td>\n      <td>Prattville</td>\n      <td>AL</td>\n      <td>Autauga County</td>\n      <td>H1</td>\n    </tr>\n    <tr>\n      <td>4</td>\n      <td>36701</td>\n      <td>1001</td>\n      <td>Selma</td>\n      <td>AL</td>\n      <td>Autauga County</td>\n      <td>H1</td>\n    </tr>\n  </tbody>\n</table>\n</div>"
     },
     "metadata": {},
     "execution_count": 27
    }
   ],
   "source": [
    "zipcty = pd.read_csv('ZIP-COUNTY-FIPS_2018-03.csv')\n",
    "zipcty.head()"
   ]
  },
  {
   "cell_type": "markdown",
   "metadata": {},
   "source": []
  },
  {
   "cell_type": "markdown",
   "metadata": {},
   "source": [
    "##  This dataframe contains information for the entire country, but the other dataframes only contain data from Colorado, so we can cut this dataframe down to approximately 1/50 of its size."
   ]
  },
  {
   "cell_type": "code",
   "execution_count": 28,
   "metadata": {},
   "outputs": [
    {
     "output_type": "execute_result",
     "data": {
      "text/plain": "        ZIP  STCOUNTYFP         CITY STATE    COUNTYNAME CLASSFP\n5549  80229        8001       Denver    CO  Adams County      H1\n5550  80701        8001  Fort morgan    CO  Adams County      H1\n5551  80642        8001       Hudson    CO  Adams County      H1\n5552  80654        8001      Wiggins    CO  Adams County      H1\n5553  80247        8001       Denver    CO  Adams County      H1",
      "text/html": "<div>\n<style scoped>\n    .dataframe tbody tr th:only-of-type {\n        vertical-align: middle;\n    }\n\n    .dataframe tbody tr th {\n        vertical-align: top;\n    }\n\n    .dataframe thead th {\n        text-align: right;\n    }\n</style>\n<table border=\"1\" class=\"dataframe\">\n  <thead>\n    <tr style=\"text-align: right;\">\n      <th></th>\n      <th>ZIP</th>\n      <th>STCOUNTYFP</th>\n      <th>CITY</th>\n      <th>STATE</th>\n      <th>COUNTYNAME</th>\n      <th>CLASSFP</th>\n    </tr>\n  </thead>\n  <tbody>\n    <tr>\n      <td>5549</td>\n      <td>80229</td>\n      <td>8001</td>\n      <td>Denver</td>\n      <td>CO</td>\n      <td>Adams County</td>\n      <td>H1</td>\n    </tr>\n    <tr>\n      <td>5550</td>\n      <td>80701</td>\n      <td>8001</td>\n      <td>Fort morgan</td>\n      <td>CO</td>\n      <td>Adams County</td>\n      <td>H1</td>\n    </tr>\n    <tr>\n      <td>5551</td>\n      <td>80642</td>\n      <td>8001</td>\n      <td>Hudson</td>\n      <td>CO</td>\n      <td>Adams County</td>\n      <td>H1</td>\n    </tr>\n    <tr>\n      <td>5552</td>\n      <td>80654</td>\n      <td>8001</td>\n      <td>Wiggins</td>\n      <td>CO</td>\n      <td>Adams County</td>\n      <td>H1</td>\n    </tr>\n    <tr>\n      <td>5553</td>\n      <td>80247</td>\n      <td>8001</td>\n      <td>Denver</td>\n      <td>CO</td>\n      <td>Adams County</td>\n      <td>H1</td>\n    </tr>\n  </tbody>\n</table>\n</div>"
     },
     "metadata": {},
     "execution_count": 28
    }
   ],
   "source": [
    "co_only = zipcty.loc[zipcty['STATE'] == 'CO']\n",
    "co_only.head()"
   ]
  },
  {
   "cell_type": "markdown",
   "metadata": {},
   "source": [
    "# The Load process\n",
    "We decided that the output to be persisted into the S3 bucket should be a CSV file, rather than uploading the Pandas Python object itself, so that what's in the bucket is a human-readable artifact, and didn't need to be deserialized back into a Pandas dataframe object in order to see the data.\n",
    "\n",
    "Four of the datasets were persisted directly from their Pandas dataframes to S3.  A fifth, MM_County_Statistics_full_percts, was exported as a CSV to the local filesystem, where additional transformation was done via Excel.  When that was complete, that finished CSV file was uploaded into the S3 bucket via manual drag-and-drop.\n",
    "\n",
    "## Some notes on the AWS persistence mechanism\n",
    "A few variations were attempted in order to get the data out of the Pandas dataframe and into the S3 bucket as a CSV file.  Passing the bucket_path (\"s3://aws...\") as the first argument of the dataframe's to_csv() method was syntactically acceptable, but I kept encountering encoding errors -- a \\ufffd Unicode character, specifically.  It didn't matter whether I explicitly set the encoding to utf-8 when reading the data in from the source CSV's, or set the encoding to utf-8 in the same .to_csv() method, which leads me to believe that it's some quirk of the internal workings of Pandas itself.\n",
    "\n",
    "The solution, [gleaned from Stack Overflow](https://stackoverflow.com/questions/38154040/save-dataframe-to-csv-directly-to-s3-python), was to use a buffer StringIO object from the Python io package.  Combining that, the Pandas to_csv() method, and the boto3 s3 proxy object, we were able to successfully persist the dataframe data to S3 as a CSV."
   ]
  },
  {
   "cell_type": "code",
   "execution_count": 29,
   "metadata": {
    "collapsed": true
   },
   "outputs": [
    {
     "output_type": "execute_result",
     "data": {
      "text/plain": "{'ResponseMetadata': {'RequestId': 'FE7EB2B192BD3A14',\n  'HostId': 'JHfVZNIZERQyE5sM542jmIHUM7h+IETkrf7R/KoI3pKEuqaKlMssbZx2F/mP/L5oYnCRXbQjAA8=',\n  'HTTPStatusCode': 200,\n  'HTTPHeaders': {'x-amz-id-2': 'JHfVZNIZERQyE5sM542jmIHUM7h+IETkrf7R/KoI3pKEuqaKlMssbZx2F/mP/L5oYnCRXbQjAA8=',\n   'x-amz-request-id': 'FE7EB2B192BD3A14',\n   'date': 'Sat, 25 Apr 2020 22:23:04 GMT',\n   'etag': '\"81b4adb7d1caba48ee239790c4b6ab16\"',\n   'content-length': '0',\n   'server': 'AmazonS3'},\n  'RetryAttempts': 0},\n 'ETag': '\"81b4adb7d1caba48ee239790c4b6ab16\"'}"
     },
     "metadata": {},
     "execution_count": 29
    }
   ],
   "source": [
    "csv_buffer = StringIO()\n",
    "co_only.to_csv(csv_buffer)\n",
    "s3.Object(bucket_name, 'dfs/co_only.csv').put(Body=csv_buffer.getvalue())"
   ]
  },
  {
   "cell_type": "code",
   "execution_count": 30,
   "metadata": {
    "collapsed": true
   },
   "outputs": [
    {
     "output_type": "execute_result",
     "data": {
      "text/plain": "{'ResponseMetadata': {'RequestId': '988FAB23F56C465A',\n  'HostId': 'kuhFhrlzrvwOzcdcx1hKwRzHEyyjQyqhQGElD48LTC92lxecoySjvUrd+XgEFwKnB3sp06XvJKM=',\n  'HTTPStatusCode': 200,\n  'HTTPHeaders': {'x-amz-id-2': 'kuhFhrlzrvwOzcdcx1hKwRzHEyyjQyqhQGElD48LTC92lxecoySjvUrd+XgEFwKnB3sp06XvJKM=',\n   'x-amz-request-id': '988FAB23F56C465A',\n   'date': 'Sat, 25 Apr 2020 22:23:08 GMT',\n   'etag': '\"0d5bd829900d77208961d7ae87a2a5ac\"',\n   'content-length': '0',\n   'server': 'AmazonS3'},\n  'RetryAttempts': 0},\n 'ETag': '\"0d5bd829900d77208961d7ae87a2a5ac\"'}"
     },
     "metadata": {},
     "execution_count": 30
    }
   ],
   "source": [
    "csv_buffer = StringIO()\n",
    "clean_sales.to_csv(csv_buffer)\n",
    "s3.Object(bucket_name, 'dfs/clean_sales.csv').put(Body=csv_buffer.getvalue())"
   ]
  },
  {
   "cell_type": "code",
   "execution_count": 31,
   "metadata": {
    "collapsed": true
   },
   "outputs": [
    {
     "output_type": "execute_result",
     "data": {
      "text/plain": "{'ResponseMetadata': {'RequestId': '3C82A9AACF4CF6E7',\n  'HostId': '7mHnNnLWOLRj/ZceVRbozxJjm0YdG+N32TJcLxQydkGGObVvyg3Zaokk1YnQTgRbKoWBv4/qngA=',\n  'HTTPStatusCode': 200,\n  'HTTPHeaders': {'x-amz-id-2': '7mHnNnLWOLRj/ZceVRbozxJjm0YdG+N32TJcLxQydkGGObVvyg3Zaokk1YnQTgRbKoWBv4/qngA=',\n   'x-amz-request-id': '3C82A9AACF4CF6E7',\n   'date': 'Sat, 25 Apr 2020 22:23:10 GMT',\n   'etag': '\"46e3e2d5c1038de59c78f861407a7dd5\"',\n   'content-length': '0',\n   'server': 'AmazonS3'},\n  'RetryAttempts': 0},\n 'ETag': '\"46e3e2d5c1038de59c78f861407a7dd5\"'}"
     },
     "metadata": {},
     "execution_count": 31
    }
   ],
   "source": [
    "csv_buffer = StringIO()\n",
    "clean_taxes.to_csv(csv_buffer)\n",
    "s3.Object(bucket_name, 'dfs/clean_taxes.csv').put(Body=csv_buffer.getvalue())"
   ]
  },
  {
   "cell_type": "code",
   "execution_count": null,
   "metadata": {},
   "outputs": [],
   "source": []
  },
  {
   "cell_type": "code",
   "execution_count": null,
   "metadata": {},
   "outputs": [],
   "source": []
  }
 ],
 "metadata": {
  "kernelspec": {
   "display_name": "Python 3.7.4 64-bit ('base': conda)",
   "language": "python",
   "name": "python37464bitbaseconda23dcc528b9bc4372b0202770eeb40730"
  },
  "language_info": {
   "codemirror_mode": {
    "name": "ipython",
    "version": 3
   },
   "file_extension": ".py",
   "mimetype": "text/x-python",
   "name": "python",
   "nbconvert_exporter": "python",
   "pygments_lexer": "ipython3",
   "version": "3.7.4-final"
  }
 },
 "nbformat": 4,
 "nbformat_minor": 4
}